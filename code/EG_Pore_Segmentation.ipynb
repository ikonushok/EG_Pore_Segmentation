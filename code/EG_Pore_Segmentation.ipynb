{
  "nbformat": 4,
  "nbformat_minor": 0,
  "metadata": {
    "colab": {
      "name": "EG_Pore_Segmentation.ipynb",
      "provenance": [],
      "collapsed_sections": []
    },
    "kernelspec": {
      "name": "python3",
      "display_name": "Python 3"
    },
    "language_info": {
      "name": "python"
    },
    "accelerator": "GPU"
  },
  "cells": [
    {
      "cell_type": "code",
      "metadata": {
        "id": "qt2LFjGBrB3j"
      },
      "source": [
        "! pip install segmentation_models_pytorch albumentations\n",
        "! pip install -U git+https://github.com/albu/albumentations --no-cache-dir"
      ],
      "execution_count": null,
      "outputs": []
    },
    {
      "cell_type": "code",
      "metadata": {
        "id": "14ksRWzALBQT"
      },
      "source": [
        "import os\n",
        "import numpy as np\n",
        "import pandas as pd\n",
        "import matplotlib.pyplot as plt\n",
        "import torch\n",
        "from torch.utils.data import DataLoader, Dataset\n",
        "import torch.nn as nn\n",
        "import albumentations\n",
        "import torchvision \n",
        "import random\n",
        "import segmentation_models_pytorch as smp\n",
        "import sys"
      ],
      "execution_count": null,
      "outputs": []
    },
    {
      "cell_type": "code",
      "metadata": {
        "colab": {
          "base_uri": "https://localhost:8080/"
        },
        "id": "BcZaPUMv5ykP",
        "outputId": "12d4e3fe-d682-4877-9bbb-207a0bae63b0"
      },
      "source": [
        "#Mount Google Drive with dataset\n",
        "from google.colab import drive\n",
        "drive.mount('/content/drive/')"
      ],
      "execution_count": null,
      "outputs": [
        {
          "output_type": "stream",
          "name": "stdout",
          "text": [
            "Mounted at /content/drive/\n"
          ]
        }
      ]
    },
    {
      "cell_type": "code",
      "metadata": {
        "id": "gWqU8UFL42wL"
      },
      "source": [
        "sys.path.insert(0, '/content/drive/MyDrive/Colab Notebooks')\n",
        "import hist_consistency"
      ],
      "execution_count": null,
      "outputs": []
    },
    {
      "cell_type": "code",
      "metadata": {
        "id": "_C-o0JYt7na4"
      },
      "source": [
        "class PSD():\n",
        "    \"\"\"\n",
        "    Class used to predict binary masks of images, measure pore areas, export them into csv-file and plot histogram\n",
        "    \n",
        "    Attributes\n",
        "    ----------\n",
        "    path_images: str.\n",
        "        Path to directory with raw images.\n",
        "    path_hdrs: str.\n",
        "        Path to directory with hdr-files containing pixel size.\n",
        "    imgpathes: list of str.\n",
        "        Pathes to raw images.\n",
        "    hdrpathes: list of str.\n",
        "        Pathes to hdr-files.\n",
        "    model: model class of Segmentation Models library.\n",
        "        Model to predict binary mask of image.\n",
        "    areas: ndarray(dtype='float32') of shape (N, ).\n",
        "        Array of area values (in squared microns) of all connectned regions (pores).\n",
        "    \"\"\"\n",
        "\n",
        "    def __init__(self, path_images, path_hdrs, model):\n",
        "        self.path_images = path_images\n",
        "        self.path_hdrs = path_hdrs\n",
        "        #Collect all pathes to images and hdrs in two lists\n",
        "        self.imgpathes = sorted([os.path.join(path_images, i) for i in os.listdir(path_images)])\n",
        "        self.hdrpathes = sorted([os.path.join(path_hdrs, i) for i in os.listdir(path_hdrs)])\n",
        "        self.model = model\n",
        "        self.areas = None\n",
        "        #Check out size of dataset\n",
        "        print('Number of images =', len(self.imgpathes))\n",
        "        print('Number of hdr-files =', len(self.hdrpathes))\n",
        "\n",
        "\n",
        "    def area_all(self):\n",
        "        \"\"\"\n",
        "        Predicts binary masks of all images and measures area (in squared microns) of all connected regions (pores).\n",
        "    \n",
        "        Returns\n",
        "        -------\n",
        "        ndarray(dtype='float32') of shape (N, ).\n",
        "            Array of area values (in squared microns) of all connectned regions (pores).\n",
        "        \"\"\"\n",
        "\n",
        "        areas = []\n",
        "        for i in range(len(self.imgpathes)):\n",
        "            mask = self.__predict(self.imgpathes[i])\n",
        "            area = hist_consistency.area(mask)\n",
        "            area = self.__px_size(self.hdrpathes[i]) * area.astype('float32')\n",
        "            areas.append(area)\n",
        "            self.areas = np.concatenate(areas)\n",
        "        return self.areas\n",
        "\n",
        "\n",
        "    def hist(self, bins=100, lrange=0., rrange=None):\n",
        "        \"\"\"\n",
        "        Plots histogram of pore area values.\n",
        "    \n",
        "        Parameters\n",
        "        ----------\n",
        "        bins: int, optional, default=100.\n",
        "            Number of bins.\n",
        "        lrange: float, optional, default=0.\n",
        "            Left boundary of histogram.\n",
        "        rrange: float, optional, default=max pore area.\n",
        "            Right boundary of histogram.\n",
        "        \"\"\"\n",
        "\n",
        "        if not rrange:\n",
        "            rrange = self.areas.max().item()\n",
        "        plt.hist(self.areas[np.where((self.areas >= lrange) & (self.areas <= rrange), True, False)], bins=bins, color='r')\n",
        "        plt.xlabel('Area, mu^2')\n",
        "        plt.ylabel('Counts')\n",
        "        plt.show()\n",
        "        return None\n",
        "\n",
        "\n",
        "    def save(self):\n",
        "        \"\"\"\n",
        "        Exports pore area values (in squared microns) to csv-file (in one column manner)\n",
        "        located in directory with folders \"images\" and \"hdrs\". \n",
        "        \"\"\"\n",
        "\n",
        "        np.savetxt(self.path_images.replace('images/', 'result.csv'), self.areas.reshape(-1, 1), fmt='%.7E')\n",
        "        return None\n",
        "\n",
        "\n",
        "    def __predict(self, imgpath):\n",
        "        \"\"\"\n",
        "        Private function.\n",
        "        Predicts binary mask of raw image of shape (H, W) with any size.\n",
        "\n",
        "        Parameters\n",
        "        ----------\n",
        "        imgpath: str.\n",
        "            Path to raw image.\n",
        "        \n",
        "        Returns\n",
        "        -------\n",
        "        ndarray(dtype='uint8) of shape (H, W).\n",
        "            Binary mask with black pores (pixel=0) and white background (pixel=1).\n",
        "        \"\"\"\n",
        "\n",
        "        img = plt.imread(imgpath)\n",
        "        H, W = img.shape\n",
        "        H_pad_width, W_pad_width = (512 - H % 512) * bool(H % 512), (512 - W % 512) * bool(W % 512)\n",
        "        img_pad = np.pad(img, ((0, H_pad_width), (0, W_pad_width)), mode='constant', constant_values=255)\n",
        "        mask_pad = np.zeros_like(img_pad)\n",
        "\n",
        "        for h in range((H + H_pad_width) // 512):\n",
        "            for w in range((W + W_pad_width) // 512):\n",
        "                img_input = img_pad[h * 512 : (h + 1) * 512, w * 512 : (w + 1) * 512]\n",
        "                mask_pad[h * 512 : (h + 1) * 512, w * 512 : (w + 1) * 512] = self.__predict_chunk(img_input)\n",
        "        mask = mask_pad[:H, :W]\n",
        "        return mask\n",
        "\n",
        "\n",
        "    def __predict_chunk(self, img):\n",
        "        \"\"\"\n",
        "        Private function.\n",
        "        Predicts binary mask of raw image chunk of shape (512, 512).\n",
        "\n",
        "        Parameters\n",
        "        ----------\n",
        "        img: ndarray(dtype='uint8') of shape (512, 512).\n",
        "            Chunk of raw image.\n",
        "        \n",
        "        Returns\n",
        "        -------\n",
        "        ndarray(dtype='uint8) of shape (512, 512).\n",
        "            Binary mask with black pores (pixel=0) and white background (pixel=1).\n",
        "        \"\"\"\n",
        "\n",
        "        img_input = self.__convert_to_tensor(img)\n",
        "        img_input = torch.from_numpy(img_input).to(device).unsqueeze(0)\n",
        "        mask = self.model.predict(img_input)\n",
        "        mask = mask.squeeze().cpu().detach().numpy().round().astype('uint8')\n",
        "        mask = hist_consistency.postproc(mask, sure_fg_threshold=0.55)\n",
        "        return mask\n",
        "\n",
        "\n",
        "    def __convert_to_tensor(self, x):\n",
        "        \"\"\"\n",
        "        Private function.\n",
        "        Reshape numpy tensor from (H, W) to (C=1, H, W).\n",
        "    \n",
        "        Parameters\n",
        "        ----------\n",
        "        x: ndarray of shape (H, W).\n",
        "            Image in tensor form.\n",
        "\n",
        "        Returns\n",
        "        -------\n",
        "        ndarray(dtype='float32') of shape (C=1, H, W).\n",
        "            Reshaped image in tensor form.\n",
        "        \"\"\"\n",
        "\n",
        "        return np.expand_dims(x, axis=0).astype(\"float32\")\n",
        "\n",
        "\n",
        "    def __px_size(self, hdrpath):\n",
        "        \"\"\"\n",
        "        Private function.\n",
        "        Reads hdr-file and returns (in squared microns) pixel size of raw image.\n",
        "\n",
        "        Parameters\n",
        "        ----------\n",
        "        hdrpath: str.\n",
        "            Path to hdr-file.\n",
        "        \n",
        "        Returns\n",
        "        -------\n",
        "        float.\n",
        "            Area of one pixel.\n",
        "        \"\"\"\n",
        "\n",
        "        with open(hdrpath) as hdr:\n",
        "            hdr.readline()\n",
        "            tag = ''\n",
        "            while tag != 'PixelSizeX':\n",
        "                line = hdr.readline().strip()\n",
        "                items = line.split('=')\n",
        "                tag = items[0]\n",
        "            return((float(items[1]) * 1000000) ** 2)    "
      ],
      "execution_count": null,
      "outputs": []
    },
    {
      "cell_type": "code",
      "metadata": {
        "id": "94f0fzjB7vpJ"
      },
      "source": [
        "#Define encoder, activation function, device and path to model weights\n",
        "encoder = 'efficientnet-b4'\n",
        "activation = 'sigmoid'\n",
        "device = \"cuda\"\n",
        "modelpath = '/content/drive/MyDrive/best_model_FPN_efficientnet-b4_ep100_bs11_wc_wlrsch_lr0_001_imagenet.pth'\n",
        "\n",
        "#Define model and load model weights\n",
        "model = smp.FPN(encoder_name=encoder, activation=activation, encoder_weights=None, encoder_depth=5, in_channels=1)\n",
        "model.load_state_dict(torch.load(modelpath))\n",
        "model.to(device)"
      ],
      "execution_count": null,
      "outputs": []
    },
    {
      "cell_type": "code",
      "metadata": {
        "id": "268KDh2D9ujX",
        "colab": {
          "base_uri": "https://localhost:8080/"
        },
        "outputId": "bce1ff15-0ef7-4bbf-cc74-7f1d73deb0d0"
      },
      "source": [
        "#Define pathes to images and corresponding hdr-files\n",
        "path_images = '/content/drive/MyDrive/working_dir/images/'\n",
        "path_hdrs = '/content/drive/MyDrive/working_dir/hdrs/'\n",
        "#Initialize object of PSD-class and check out dataset size.\n",
        "ex = PSD(path_images, path_hdrs, model)"
      ],
      "execution_count": null,
      "outputs": [
        {
          "output_type": "stream",
          "name": "stdout",
          "text": [
            "Number of images = 10\n",
            "Number of hdr-files = 10\n"
          ]
        }
      ]
    },
    {
      "cell_type": "code",
      "metadata": {
        "id": "4DhBmvfq4m54"
      },
      "source": [
        "#Measure pore areas\n",
        "ex.area_all();"
      ],
      "execution_count": null,
      "outputs": []
    },
    {
      "cell_type": "code",
      "metadata": {
        "colab": {
          "base_uri": "https://localhost:8080/",
          "height": 278
        },
        "id": "CcycjZPw5B0f",
        "outputId": "1ee10398-f707-4e79-cffc-0b765ce68e5b"
      },
      "source": [
        "#Plot histogram of pore areas\n",
        "ex.hist(100, 0, 100)"
      ],
      "execution_count": null,
      "outputs": [
        {
          "output_type": "display_data",
          "data": {
            "image/png": "[encoded data removed]",
            "text/plain": [
              "<Figure size 432x288 with 1 Axes>"
            ]
          },
          "metadata": {
            "needs_background": "light"
          }
        }
      ]
    },
    {
      "cell_type": "code",
      "metadata": {
        "id": "DFbJEXXKa6ux"
      },
      "source": [
        "#Save pore areas to csv-file\n",
        "ex.save()"
      ],
      "execution_count": null,
      "outputs": []
    }
  ]
}